{
 "cells": [
  {
   "cell_type": "code",
   "execution_count": 1,
   "id": "entertaining-retro",
   "metadata": {},
   "outputs": [],
   "source": [
    "import numpy as np\n",
    "import cv2\n",
    "from keras.preprocessing.image import img_to_array\n",
    "from keras.models import model_from_json\n",
    "import face_recognition"
   ]
  },
  {
   "cell_type": "code",
   "execution_count": 2,
   "id": "pleasant-headline",
   "metadata": {},
   "outputs": [],
   "source": [
    "cap=cv2.VideoCapture(0)"
   ]
  },
  {
   "cell_type": "code",
   "execution_count": 3,
   "id": "sunset-engineer",
   "metadata": {},
   "outputs": [],
   "source": [
    "model=model_from_json(open('/home/user/tensorflow-101/model/facial_expression_model_structure.json','r').read())\n",
    "model.load_weights('/home/user/tensorflow-101/model/facial_expression_model_weights.h5')\n",
    "emotions_label=('angry','disgust','fear','happy','sad','surprise','neutral')\n",
    "faces=[]\n",
    "while True:\n",
    "    ret,frame=cap.read()\n",
    "    frame_small=cv2.resize(frame,(0,0),fx=.25,fy=.25)\n",
    "    faces=face_recognition.face_locations(frame_small,2)\n",
    "    for index,face in enumerate(faces):\n",
    "        top,right,bottom,left=face\n",
    "        top=top*4\n",
    "        bottom=bottom*4\n",
    "        right=right*4\n",
    "        left=left*4\n",
    "        image=frame[top:bottom,left:right]\n",
    "        cv2.rectangle(frame,(left,top),(right,bottom),(255,255,255),2)\n",
    "        gray=cv2.cvtColor(image,cv2.COLOR_BGR2GRAY)\n",
    "        gray=cv2.resize(gray,(48,48))\n",
    "        gray=img_to_array(gray)\n",
    "        gray=np.expand_dims(gray,axis=0)\n",
    "        gray/=255\n",
    "        pred=model.predict(gray)\n",
    "        max_index=np.argmax(pred[0])\n",
    "        emotion=emotions_label[max_index]\n",
    "        cv2.putText(frame,emotion,(left,top),cv2.FONT_HERSHEY_DUPLEX,0.5,(255,255,255),1)\n",
    "    cv2.imshow('Webcam ',frame)\n",
    "    if cv2.waitKey(1)==13:\n",
    "        break\n",
    "cap.release()\n",
    "cv2.destroyAllWindows()"
   ]
  },
  {
   "cell_type": "code",
   "execution_count": null,
   "id": "destroyed-message",
   "metadata": {},
   "outputs": [],
   "source": []
  }
 ],
 "metadata": {
  "kernelspec": {
   "display_name": "Python 3",
   "language": "python",
   "name": "python3"
  },
  "language_info": {
   "codemirror_mode": {
    "name": "ipython",
    "version": 3
   },
   "file_extension": ".py",
   "mimetype": "text/x-python",
   "name": "python",
   "nbconvert_exporter": "python",
   "pygments_lexer": "ipython3",
   "version": "3.8.5"
  }
 },
 "nbformat": 4,
 "nbformat_minor": 5
}
