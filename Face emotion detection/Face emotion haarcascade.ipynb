{
 "cells": [
  {
   "cell_type": "code",
   "execution_count": 8,
   "id": "smoking-launch",
   "metadata": {},
   "outputs": [],
   "source": [
    "from keras.models import load_model\n",
    "import cv2\n",
    "import numpy as np\n",
    "from keras.preprocessing.image import img_to_array"
   ]
  },
  {
   "cell_type": "code",
   "execution_count": 9,
   "id": "medium-mustang",
   "metadata": {},
   "outputs": [],
   "source": [
    "model=load_model('emotion.h5')\n",
    "face_classifier = cv2.CascadeClassifier('/home/user/.local/lib/python3.8/site-packages/cv2/data/haarcascade_frontalface_default.xml')\n",
    "class_labels={0: 'Angry', 1: 'Happy', 2: 'Neutral', 3: 'Sad', 4: 'Surprise'}\n",
    "def face_detector(img):\n",
    "    gray=cv2.cvtColor(img,cv2.COLOR_BGR2GRAY)\n",
    "    faces=face_classifier.detectMultiScale(gray,1.3,5)\n",
    "    if len(faces) == 0:\n",
    "        return (0,0,0,0), np.zeros((48,48), np.uint8), img\n",
    "    else:\n",
    "        for (x,y,w,h) in faces:\n",
    "            cv2.rectangle(img,(x,y),(x+w,y+h),(255,0,0),2)\n",
    "            roi_gray = gray[x:x+w,y:y+h]\n",
    "            roi_gray = cv2.resize(roi_gray, (48, 48), interpolation = cv2.INTER_AREA)\n",
    "            roi_color=img[x:x+w,y:y+h]\n",
    "            return (x,w,y,h), roi_gray, img\n",
    "cap=cv2.VideoCapture(0)\n",
    "while True:\n",
    "    ret,frame=cap.read()\n",
    "    if ret==True:\n",
    "        rect,face,image=face_detector(frame)\n",
    "        if np.sum([face]) != 0.0:\n",
    "            roi = face.astype(\"float\") / 255.0\n",
    "            roi = img_to_array(roi)\n",
    "            roi = np.expand_dims(roi, axis=0)\n",
    "            preds = model.predict(roi)[0]\n",
    "            label = class_labels[preds.argmax()] \n",
    "            label_position = (rect[0] + int((rect[1]/2)), rect[2] + 25)\n",
    "            cv2.putText(image, label, label_position , cv2.FONT_HERSHEY_SIMPLEX,2, (0,255,0), 3)\n",
    "        else:\n",
    "            cv2.putText(image, \"No Face Found\", (20, 60) , cv2.FONT_HERSHEY_SIMPLEX,2, (0,255,0), 3)\n",
    "        cv2.imshow('image',image)\n",
    "        if cv2.waitKey(1)==13:\n",
    "            break\n",
    "cap.release()\n",
    "cv2.destroyAllWindows()"
   ]
  },
  {
   "cell_type": "code",
   "execution_count": null,
   "id": "wooden-chess",
   "metadata": {},
   "outputs": [],
   "source": []
  }
 ],
 "metadata": {
  "kernelspec": {
   "display_name": "Python 3",
   "language": "python",
   "name": "python3"
  },
  "language_info": {
   "codemirror_mode": {
    "name": "ipython",
    "version": 3
   },
   "file_extension": ".py",
   "mimetype": "text/x-python",
   "name": "python",
   "nbconvert_exporter": "python",
   "pygments_lexer": "ipython3",
   "version": "3.8.5"
  }
 },
 "nbformat": 4,
 "nbformat_minor": 5
}
