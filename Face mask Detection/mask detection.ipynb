{
 "cells": [
  {
   "cell_type": "code",
   "execution_count": 23,
   "id": "periodic-thesaurus",
   "metadata": {},
   "outputs": [],
   "source": [
    "import numpy as np\n",
    "import cv2\n",
    "from keras.models import load_model\n",
    "from keras.preprocessing.image import img_to_array\n",
    "from keras.applications.mobilenet_v2 import preprocess_input"
   ]
  },
  {
   "cell_type": "code",
   "execution_count": 24,
   "id": "julian-metropolitan",
   "metadata": {},
   "outputs": [],
   "source": [
    "cap=cv2.VideoCapture(0)"
   ]
  },
  {
   "cell_type": "code",
   "execution_count": 25,
   "id": "unable-advice",
   "metadata": {},
   "outputs": [],
   "source": [
    "def detect_face(frame,faceNet,model):\n",
    "    h,w=frame.shape[:2]\n",
    "    blob=cv2.dnn.blobFromImage(frame,1,(224,224),(104,116,124))\n",
    "    faceNet.setInput(blob)\n",
    "    detections=faceNet.forward()\n",
    "    faces=[]\n",
    "    locs=[]\n",
    "    preds=[]\n",
    "    for i in range(0,detections.shape[2]):\n",
    "        confidence=detections[0,0,i,2]\n",
    "        if confidence > 0.5:\n",
    "            box=detections[0,0,i,3:7]*np.array([w,h,w,h])\n",
    "            (startx,starty,endx,endy)=box.astype('int')\n",
    "            (startx,statry)=(max(0,startx),max(0,starty))\n",
    "            (endx,endy)=(min(w-1,endx),min(h-1,endy))\n",
    "            face=frame[starty:endy,startx:endx]\n",
    "            face=cv2.cvtColor(face,cv2.COLOR_BGR2RGB)\n",
    "            face=cv2.resize(face,(224,224))\n",
    "            face=img_to_array(face)\n",
    "            face=preprocess_input(face)\n",
    "            faces.append(face)\n",
    "            faces.append(face)\n",
    "            locs.append((startx,starty,endx,endy))\n",
    "    if len(faces)>0:\n",
    "        faces=np.array(faces,dtype='float32')\n",
    "        preds=model.predict(faces,batch_size=32)\n",
    "    return (locs,preds)\n"
   ]
  },
  {
   "cell_type": "code",
   "execution_count": null,
   "id": "smoking-temple",
   "metadata": {},
   "outputs": [],
   "source": [
    "model=load_model('face_mask.h5')\n",
    "faceNet=cv2.dnn.readNet('deploy.prototxt','res10_300x300_ssd_iter_140000.caffemodel')\n",
    "while True:\n",
    "    ret,frame=cap.read()\n",
    "    (locs,preds)=detect_face(frame,faceNet,model)\n",
    "    for box,pred in zip(locs,preds):\n",
    "        (startx,starty,endx,endy)=box\n",
    "        mask,withoutmask=pred\n",
    "        label='Mask' if mask > withoutmask else 'no mask'\n",
    "        color =(0,255,0) if label == 'Mask' else (0,0,255)\n",
    "        cv2.putText(frame,label,(startx,starty-10),cv2.FONT_HERSHEY_SIMPLEX,.45,color,2)\n",
    "        cv2.rectangle(frame,(startx,starty),(endx,endy),color,2)\n",
    "    cv2.imshow('Webcam ',frame)\n",
    "    if cv2.waitKey(1)==13:\n",
    "        break\n",
    "cap.release()\n",
    "cv2.destroyAllWindows()"
   ]
  },
  {
   "cell_type": "code",
   "execution_count": null,
   "id": "automated-jonathan",
   "metadata": {},
   "outputs": [],
   "source": []
  }
 ],
 "metadata": {
  "kernelspec": {
   "display_name": "Python 3",
   "language": "python",
   "name": "python3"
  },
  "language_info": {
   "codemirror_mode": {
    "name": "ipython",
    "version": 3
   },
   "file_extension": ".py",
   "mimetype": "text/x-python",
   "name": "python",
   "nbconvert_exporter": "python",
   "pygments_lexer": "ipython3",
   "version": "3.8.5"
  }
 },
 "nbformat": 4,
 "nbformat_minor": 5
}
